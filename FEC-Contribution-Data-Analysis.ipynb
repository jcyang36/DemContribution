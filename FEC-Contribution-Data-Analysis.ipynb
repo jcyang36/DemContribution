{
 "cells": [
  {
   "cell_type": "code",
   "execution_count": 1,
   "metadata": {
    "scrolled": true
   },
   "outputs": [
    {
     "name": "stderr",
     "output_type": "stream",
     "text": [
      "C:\\ProgramData\\Anaconda3\\lib\\site-packages\\IPython\\core\\interactiveshell.py:3057: DtypeWarning: Columns (6,11,12,16) have mixed types. Specify dtype option on import or set low_memory=False.\n",
      "  interactivity=interactivity, compiler=compiler, result=result)\n"
     ]
    },
    {
     "data": {
      "text/plain": [
       "<Figure size 640x480 with 1 Axes>"
      ]
     },
     "metadata": {},
     "output_type": "display_data"
    },
    {
     "name": "stdout",
     "output_type": "stream",
     "text": [
      "Sanders, Bernard           979947\n",
      "Warren, Elizabeth          434302\n",
      "Buttigieg, Pete            344818\n",
      "Yang, Andrew               249669\n",
      "Biden, Joseph R Jr         202545\n",
      "Harris, Kamala D.          169274\n",
      "O’Rourke, Robert Beto       96830\n",
      "Klobuchar, Amy J.           92593\n",
      "Booker, Cory A.             77106\n",
      "Gabbard, Tulsi              47605\n",
      "Williamson, Marianne        41083\n",
      "Castro, Julián              35371\n",
      "Bennet, Michael F.          18728\n",
      "Bullock, Steve              14711\n",
      "Inslee, Jay R               13404\n",
      "Gillibrand, Kirsten          7961\n",
      "Hickenlooper, John W.        3903\n",
      "Delaney, John K.             3721\n",
      "Steyer, Tom                  2738\n",
      "Moulton, Seth                2105\n",
      "Ryan, Timothy J.             1798\n",
      "Patrick, Deval               1538\n",
      "Swalwell, Eric Michael       1162\n",
      "Sestak, Joseph A. Jr.         863\n",
      "de Blasio, Bill               832\n",
      "Messam, Wayne Martin          110\n",
      "Gravel, Maurice Robert         49\n",
      "Ojeda, Richard Neece II        47\n",
      "Name: cand_nm, dtype: int64\n"
     ]
    }
   ],
   "source": [
    "import numpy as np\n",
    "import pandas as pd\n",
    "import seaborn as sns\n",
    "from matplotlib import pyplot as plt\n",
    "\n",
    "# process by pandas\n",
    "df = pd.read_csv('contributionData.zip',index_col=False)\n",
    "df.drop('cmte_id', axis=1)\n",
    "df=df.dropna(axis=1, how='any')\n",
    "df=df.sort_values(['contb_receipt_dt','tran_id'])\n",
    "df=df.drop('contbr_nm',axis=1)\n",
    "counts=df['cand_nm'].value_counts()\n",
    "plt.bar(range(len(counts)),counts)\n",
    "plt.show()\n",
    "print(counts)"
   ]
  },
  {
   "cell_type": "code",
   "execution_count": 2,
   "metadata": {},
   "outputs": [],
   "source": [
    "df1=df[df['cand_nm'].isin(['Sanders, Bernard','Warren, Elizabeth ','Buttigieg, Pete','Biden, Joseph R Jr','Gabbard, Tulsi','Steyer, Tom','Klobuchar, Amy J.'])]\n"
   ]
  },
  {
   "cell_type": "code",
   "execution_count": 3,
   "metadata": {},
   "outputs": [
    {
     "data": {
      "image/png": "[encoded data removed]",
      "text/plain": [
       "<Figure size 432x288 with 1 Axes>"
      ]
     },
     "metadata": {
      "needs_background": "light"
     },
     "output_type": "display_data"
    },
    {
     "name": "stdout",
     "output_type": "stream",
     "text": [
      "Sanders, Bernard      979947\n",
      "Warren, Elizabeth     434302\n",
      "Buttigieg, Pete       344818\n",
      "Biden, Joseph R Jr    202545\n",
      "Klobuchar, Amy J.      92593\n",
      "Gabbard, Tulsi         47605\n",
      "Steyer, Tom             2738\n",
      "Name: cand_nm, dtype: int64\n"
     ]
    }
   ],
   "source": [
    "counts=df1['cand_nm'].value_counts()\n",
    "plt.bar(range(len(counts)),counts)\n",
    "plt.show()\n",
    "print(counts)"
   ]
  },
  {
   "cell_type": "code",
   "execution_count": 4,
   "metadata": {},
   "outputs": [
    {
     "data": {
      "text/plain": [
       "cand_nm\n",
       "Biden, Joseph R Jr    3.740849e+07\n",
       "Buttigieg, Pete       4.139357e+07\n",
       "Gabbard, Tulsi        3.963906e+06\n",
       "Klobuchar, Amy J.     1.451430e+07\n",
       "Sanders, Bernard      3.449763e+07\n",
       "Steyer, Tom           7.893635e+05\n",
       "Warren, Elizabeth     2.770172e+07\n",
       "Name: contb_receipt_amt, dtype: float64"
      ]
     },
     "execution_count": 4,
     "metadata": {},
     "output_type": "execute_result"
    }
   ],
   "source": [
    "df1.groupby('cand_nm')['contb_receipt_amt'].sum()"
   ]
  },
  {
   "cell_type": "code",
   "execution_count": 5,
   "metadata": {},
   "outputs": [],
   "source": [
    "df1.to_csv(\"cleanContribData.csv\", sep=',')"
   ]
  },
  {
   "cell_type": "code",
   "execution_count": 6,
   "metadata": {},
   "outputs": [],
   "source": [
    "df2=df1[df1['contb_receipt_amt']>0]"
   ]
  },
  {
   "cell_type": "code",
   "execution_count": 14,
   "metadata": {},
   "outputs": [],
   "source": [
    "df2=df2.drop(['cmte_id','tran_id','form_tp','file_num','cand_id'],axis=1)\n"
   ]
  },
  {
   "cell_type": "code",
   "execution_count": 15,
   "metadata": {},
   "outputs": [
    {
     "data": {
      "text/html": [
       "<div>\n",
       "<style scoped>\n",
       "    .dataframe tbody tr th:only-of-type {\n",
       "        vertical-align: middle;\n",
       "    }\n",
       "\n",
       "    .dataframe tbody tr th {\n",
       "        vertical-align: top;\n",
       "    }\n",
       "\n",
       "    .dataframe thead th {\n",
       "        text-align: right;\n",
       "    }\n",
       "</style>\n",
       "<table border=\"1\" class=\"dataframe\">\n",
       "  <thead>\n",
       "    <tr style=\"text-align: right;\">\n",
       "      <th></th>\n",
       "      <th>cand_nm</th>\n",
       "      <th>contbr_st</th>\n",
       "      <th>contb_receipt_amt</th>\n",
       "      <th>contb_receipt_dt</th>\n",
       "    </tr>\n",
       "  </thead>\n",
       "  <tbody>\n",
       "    <tr>\n",
       "      <th>2374181</th>\n",
       "      <td>Buttigieg, Pete</td>\n",
       "      <td>NY</td>\n",
       "      <td>250.0</td>\n",
       "      <td>01-APR-19</td>\n",
       "    </tr>\n",
       "    <tr>\n",
       "      <th>2320774</th>\n",
       "      <td>Buttigieg, Pete</td>\n",
       "      <td>MD</td>\n",
       "      <td>200.0</td>\n",
       "      <td>01-APR-19</td>\n",
       "    </tr>\n",
       "    <tr>\n",
       "      <th>2371176</th>\n",
       "      <td>Buttigieg, Pete</td>\n",
       "      <td>NY</td>\n",
       "      <td>25.0</td>\n",
       "      <td>01-APR-19</td>\n",
       "    </tr>\n",
       "    <tr>\n",
       "      <th>2298882</th>\n",
       "      <td>Buttigieg, Pete</td>\n",
       "      <td>LA</td>\n",
       "      <td>18.0</td>\n",
       "      <td>01-APR-19</td>\n",
       "    </tr>\n",
       "    <tr>\n",
       "      <th>2274892</th>\n",
       "      <td>Buttigieg, Pete</td>\n",
       "      <td>IL</td>\n",
       "      <td>500.0</td>\n",
       "      <td>01-APR-19</td>\n",
       "    </tr>\n",
       "  </tbody>\n",
       "</table>\n",
       "</div>"
      ],
      "text/plain": [
       "                 cand_nm contbr_st  contb_receipt_amt contb_receipt_dt\n",
       "2374181  Buttigieg, Pete        NY              250.0        01-APR-19\n",
       "2320774  Buttigieg, Pete        MD              200.0        01-APR-19\n",
       "2371176  Buttigieg, Pete        NY               25.0        01-APR-19\n",
       "2298882  Buttigieg, Pete        LA               18.0        01-APR-19\n",
       "2274892  Buttigieg, Pete        IL              500.0        01-APR-19"
      ]
     },
     "execution_count": 15,
     "metadata": {},
     "output_type": "execute_result"
    }
   ],
   "source": [
    "df2.head()"
   ]
  },
  {
   "cell_type": "code",
   "execution_count": 16,
   "metadata": {},
   "outputs": [],
   "source": [
    "df2.to_csv(r'demContributionData.csv')"
   ]
  }
 ],
 "metadata": {
  "kernelspec": {
   "display_name": "Python 3",
   "language": "python",
   "name": "python3"
  },
  "language_info": {
   "codemirror_mode": {
    "name": "ipython",
    "version": 3
   },
   "file_extension": ".py",
   "mimetype": "text/x-python",
   "name": "python",
   "nbconvert_exporter": "python",
   "pygments_lexer": "ipython3",
   "version": "3.7.3"
  }
 },
 "nbformat": 4,
 "nbformat_minor": 2
}
