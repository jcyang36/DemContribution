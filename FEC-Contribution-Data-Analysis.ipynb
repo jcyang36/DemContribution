{
 "cells": [
  {
   "cell_type": "code",
   "execution_count": 27,
   "metadata": {
    "scrolled": true
   },
   "outputs": [
    {
     "data": {
      "image/png": "[encoded data removed]",
      "text/plain": [
       "<Figure size 432x288 with 1 Axes>"
      ]
     },
     "metadata": {
      "needs_background": "light"
     },
     "output_type": "display_data"
    },
    {
     "name": "stdout",
     "output_type": "stream",
     "text": [
      "Sanders, Bernard           979947\n",
      "Warren, Elizabeth          434302\n",
      "Buttigieg, Pete            344818\n",
      "Yang, Andrew               249669\n",
      "Biden, Joseph R Jr         202545\n",
      "Harris, Kamala D.          169274\n",
      "O’Rourke, Robert Beto       96830\n",
      "Klobuchar, Amy J.           92593\n",
      "Booker, Cory A.             77106\n",
      "Gabbard, Tulsi              47605\n",
      "Williamson, Marianne        41083\n",
      "Castro, Julián              35371\n",
      "Bennet, Michael F.          18728\n",
      "Bullock, Steve              14711\n",
      "Inslee, Jay R               13404\n",
      "Gillibrand, Kirsten          7961\n",
      "Hickenlooper, John W.        3903\n",
      "Delaney, John K.             3721\n",
      "Steyer, Tom                  2738\n",
      "Moulton, Seth                2105\n",
      "Ryan, Timothy J.             1798\n",
      "Patrick, Deval               1538\n",
      "Swalwell, Eric Michael       1162\n",
      "Sestak, Joseph A. Jr.         863\n",
      "de Blasio, Bill               832\n",
      "Messam, Wayne Martin          110\n",
      "Gravel, Maurice Robert         49\n",
      "Ojeda, Richard Neece II        47\n",
      "Name: cand_nm, dtype: int64\n"
     ]
    }
   ],
   "source": [
    "import numpy as np\n",
    "import pandas as pd\n",
    "import seaborn as sns\n",
    "from matplotlib import pyplot as plt\n",
    "\n",
    "# process by pandas\n",
    "df = pd.read_csv('contributionData.zip',index_col=False)\n",
    "df.drop('cmte_id', axis=1)\n",
    "df=df.dropna(axis=1, how='any')\n",
    "df=df.sort_values(['contb_receipt_dt','tran_id'])\n",
    "df=df.drop('contbr_nm',axis=1)\n",
    "counts=df['cand_nm'].value_counts()\n",
    "plt.bar(range(len(counts)),counts)\n",
    "plt.show()\n",
    "print(counts)"
   ]
  },
  {
   "cell_type": "code",
   "execution_count": 28,
   "metadata": {},
   "outputs": [],
   "source": [
    "df1=df[df['cand_nm'].isin(['Sanders, Bernard','Warren, Elizabeth ','Buttigieg, Pete','Biden, Joseph R Jr','Gabbard, Tulsi','Steyer, Tom','Klobuchar, Amy J.'])]\n"
   ]
  },
  {
   "cell_type": "code",
   "execution_count": 29,
   "metadata": {},
   "outputs": [
    {
     "data": {
      "image/png": "[encoded data removed]",
      "text/plain": [
       "<Figure size 432x288 with 1 Axes>"
      ]
     },
     "metadata": {
      "needs_background": "light"
     },
     "output_type": "display_data"
    },
    {
     "name": "stdout",
     "output_type": "stream",
     "text": [
      "Sanders, Bernard      979947\n",
      "Warren, Elizabeth     434302\n",
      "Buttigieg, Pete       344818\n",
      "Biden, Joseph R Jr    202545\n",
      "Klobuchar, Amy J.      92593\n",
      "Gabbard, Tulsi         47605\n",
      "Steyer, Tom             2738\n",
      "Name: cand_nm, dtype: int64\n"
     ]
    }
   ],
   "source": [
    "counts=df1['cand_nm'].value_counts()\n",
    "plt.bar(range(len(counts)),counts)\n",
    "plt.show()\n",
    "print(counts)"
   ]
  },
  {
   "cell_type": "code",
   "execution_count": null,
   "metadata": {},
   "outputs": [],
   "source": []
  }
 ],
 "metadata": {
  "kernelspec": {
   "display_name": "Python 3",
   "language": "python",
   "name": "python3"
  },
  "language_info": {
   "codemirror_mode": {
    "name": "ipython",
    "version": 3
   },
   "file_extension": ".py",
   "mimetype": "text/x-python",
   "name": "python",
   "nbconvert_exporter": "python",
   "pygments_lexer": "ipython3",
   "version": "3.7.3"
  }
 },
 "nbformat": 4,
 "nbformat_minor": 2
}
